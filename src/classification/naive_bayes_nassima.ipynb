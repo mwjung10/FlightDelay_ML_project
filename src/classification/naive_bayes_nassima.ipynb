{
 "cells": [
  {
   "cell_type": "code",
   "execution_count": 1,
   "id": "b703c980",
   "metadata": {},
   "outputs": [
    {
     "name": "stdout",
     "output_type": "stream",
     "text": [
      "Current working directory: /home/adam/university/sem5/machine_learning/Project/src/classification\n",
      "📂 Loading data from: ../../data/preprocessed_flight_data.csv\n",
      "Data loaded successfully!\n",
      "X shape: (6965266, 12)\n",
      "y shape: (6965266,)\n",
      "Target distribution:\n",
      " is_arr_delayed\n",
      "False    0.637916\n",
      "True     0.362084\n",
      "Name: proportion, dtype: float64\n",
      "\n",
      "✅ All categorical features encoded successfully!\n",
      "\n",
      "=== Model Evaluation ===\n",
      "Accuracy: 0.6456\n",
      "ROC AUC: 0.6268\n",
      "PR AUC: 0.4679\n"
     ]
    }
   ],
   "source": [
    "\n",
    "import os\n",
    "print(\"Current working directory:\", os.getcwd())\n",
    "\n",
    "from load_data import load_preprocessed_data\n",
    "from evaluation import evaluate_model\n",
    "from sklearn.model_selection import train_test_split\n",
    "from sklearn.naive_bayes import GaussianNB\n",
    "from sklearn.preprocessing import LabelEncoder\n",
    "\n",
    "#. Load data\n",
    "X, y = load_preprocessed_data()\n",
    "print(\"Data loaded successfully!\")\n",
    "print(\"X shape:\", X.shape)\n",
    "print(\"y shape:\", y.shape)\n",
    "print(\"Target distribution:\\n\", y.value_counts(normalize=True))\n",
    "\n",
    "# 2. Encode categorical columns\n",
    "for col in X.columns:\n",
    "    if X[col].dtype == 'object':\n",
    "        le = LabelEncoder()\n",
    "        X[col] = le.fit_transform(X[col].astype(str))\n",
    "\n",
    "print(\"\\n✅ All categorical features encoded successfully!\")\n",
    "\n",
    "# 3. Split data\n",
    "X_train, X_test, y_train, y_test = train_test_split(\n",
    "    X, y, test_size=0.2, random_state=42\n",
    ")\n",
    "\n",
    "# 4. Train Naive Bayes model\n",
    "nb_model = GaussianNB()\n",
    "nb_model.fit(X_train, y_train)\n",
    "\n",
    "# 5. Evaluate model\n",
    "metrics = evaluate_model(nb_model, X_test, y_test)\n",
    "\n",
    "# 6. Display results\n",
    "print(\"\\n=== Model Evaluation ===\")\n",
    "print(f\"Accuracy: {metrics['accuracy']:.4f}\")\n",
    "print(f\"ROC AUC: {metrics['roc_auc']:.4f}\")\n",
    "print(f\"PR AUC: {metrics['pr_auc']:.4f}\")\n"
   ]
  }
 ],
 "metadata": {
  "kernelspec": {
   "display_name": "flight-delay",
   "language": "python",
   "name": "python3"
  },
  "language_info": {
   "codemirror_mode": {
    "name": "ipython",
    "version": 3
   },
   "file_extension": ".py",
   "mimetype": "text/x-python",
   "name": "python",
   "nbconvert_exporter": "python",
   "pygments_lexer": "ipython3",
   "version": "3.13.7"
  }
 },
 "nbformat": 4,
 "nbformat_minor": 5
}
