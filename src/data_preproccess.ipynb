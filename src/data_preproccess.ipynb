{
 "cells": [
  {
   "cell_type": "markdown",
   "id": "01c557ad",
   "metadata": {},
   "source": [
    "## Flight delay data preprocessing and analysis"
   ]
  },
  {
   "cell_type": "markdown",
   "id": "0d0eccd3",
   "metadata": {},
   "source": [
    "**1. Data Downloading**"
   ]
  },
  {
   "cell_type": "markdown",
   "id": "fdccfae9",
   "metadata": {},
   "source": []
  },
  {
   "cell_type": "code",
   "execution_count": 22,
   "id": "511705d2",
   "metadata": {},
   "outputs": [
    {
     "name": "stdout",
     "output_type": "stream",
     "text": [
      "Downloaded to: /Users/info/.cache/kagglehub/datasets/hrishitpatil/flight-data-2024/versions/2\n"
     ]
    }
   ],
   "source": [
    "import kagglehub\n",
    "\n",
    "path = kagglehub.dataset_download(\"hrishitpatil/flight-data-2024\")\n",
    "\n",
    "print(\"Downloaded to:\", path)\n"
   ]
  },
  {
   "cell_type": "code",
   "execution_count": 2,
   "id": "a5a34337",
   "metadata": {},
   "outputs": [],
   "source": [
    "from pathlib import Path\n",
    "import shutil\n",
    "\n",
    "data_folder = Path('../data')\n",
    "data_folder.mkdir(exist_ok=True)\n",
    "\n",
    "for f in Path(path).glob('*'):\n",
    "    shutil.copy(f, data_folder / f.name)\n"
   ]
  },
  {
   "cell_type": "code",
   "execution_count": 3,
   "id": "dc04e0ec",
   "metadata": {},
   "outputs": [
    {
     "name": "stderr",
     "output_type": "stream",
     "text": [
      "/var/folders/8z/_wj2wgx17cvc7jfj58v5yzp00000gn/T/ipykernel_89083/1157875057.py:3: DtypeWarning: Columns (24) have mixed types. Specify dtype option on import or set low_memory=False.\n",
      "  df = pd.read_csv(\"../data/flight_data_2024.csv\")\n"
     ]
    }
   ],
   "source": [
    "import pandas as pd\n",
    "\n",
    "df = pd.read_csv(\"../data/flight_data_2024.csv\")"
   ]
  },
  {
   "cell_type": "code",
   "execution_count": 4,
   "id": "e857a4c5",
   "metadata": {},
   "outputs": [
    {
     "data": {
      "text/html": [
       "<div>\n",
       "<style scoped>\n",
       "    .dataframe tbody tr th:only-of-type {\n",
       "        vertical-align: middle;\n",
       "    }\n",
       "\n",
       "    .dataframe tbody tr th {\n",
       "        vertical-align: top;\n",
       "    }\n",
       "\n",
       "    .dataframe thead th {\n",
       "        text-align: right;\n",
       "    }\n",
       "</style>\n",
       "<table border=\"1\" class=\"dataframe\">\n",
       "  <thead>\n",
       "    <tr style=\"text-align: right;\">\n",
       "      <th></th>\n",
       "      <th>year</th>\n",
       "      <th>month</th>\n",
       "      <th>day_of_month</th>\n",
       "      <th>day_of_week</th>\n",
       "      <th>fl_date</th>\n",
       "      <th>op_unique_carrier</th>\n",
       "      <th>op_carrier_fl_num</th>\n",
       "      <th>origin</th>\n",
       "      <th>origin_city_name</th>\n",
       "      <th>origin_state_nm</th>\n",
       "      <th>...</th>\n",
       "      <th>diverted</th>\n",
       "      <th>crs_elapsed_time</th>\n",
       "      <th>actual_elapsed_time</th>\n",
       "      <th>air_time</th>\n",
       "      <th>distance</th>\n",
       "      <th>carrier_delay</th>\n",
       "      <th>weather_delay</th>\n",
       "      <th>nas_delay</th>\n",
       "      <th>security_delay</th>\n",
       "      <th>late_aircraft_delay</th>\n",
       "    </tr>\n",
       "  </thead>\n",
       "  <tbody>\n",
       "    <tr>\n",
       "      <th>0</th>\n",
       "      <td>2024</td>\n",
       "      <td>1</td>\n",
       "      <td>1</td>\n",
       "      <td>1</td>\n",
       "      <td>2024-01-01</td>\n",
       "      <td>9E</td>\n",
       "      <td>4814.0</td>\n",
       "      <td>JFK</td>\n",
       "      <td>New York, NY</td>\n",
       "      <td>New York</td>\n",
       "      <td>...</td>\n",
       "      <td>0</td>\n",
       "      <td>136.0</td>\n",
       "      <td>122.0</td>\n",
       "      <td>84.0</td>\n",
       "      <td>509.0</td>\n",
       "      <td>0</td>\n",
       "      <td>0</td>\n",
       "      <td>0</td>\n",
       "      <td>0</td>\n",
       "      <td>0</td>\n",
       "    </tr>\n",
       "    <tr>\n",
       "      <th>1</th>\n",
       "      <td>2024</td>\n",
       "      <td>1</td>\n",
       "      <td>1</td>\n",
       "      <td>1</td>\n",
       "      <td>2024-01-01</td>\n",
       "      <td>9E</td>\n",
       "      <td>4815.0</td>\n",
       "      <td>MSP</td>\n",
       "      <td>Minneapolis, MN</td>\n",
       "      <td>Minnesota</td>\n",
       "      <td>...</td>\n",
       "      <td>0</td>\n",
       "      <td>130.0</td>\n",
       "      <td>114.0</td>\n",
       "      <td>88.0</td>\n",
       "      <td>622.0</td>\n",
       "      <td>0</td>\n",
       "      <td>0</td>\n",
       "      <td>0</td>\n",
       "      <td>0</td>\n",
       "      <td>0</td>\n",
       "    </tr>\n",
       "    <tr>\n",
       "      <th>2</th>\n",
       "      <td>2024</td>\n",
       "      <td>1</td>\n",
       "      <td>1</td>\n",
       "      <td>1</td>\n",
       "      <td>2024-01-01</td>\n",
       "      <td>9E</td>\n",
       "      <td>4817.0</td>\n",
       "      <td>JFK</td>\n",
       "      <td>New York, NY</td>\n",
       "      <td>New York</td>\n",
       "      <td>...</td>\n",
       "      <td>0</td>\n",
       "      <td>106.0</td>\n",
       "      <td>90.0</td>\n",
       "      <td>61.0</td>\n",
       "      <td>288.0</td>\n",
       "      <td>0</td>\n",
       "      <td>0</td>\n",
       "      <td>0</td>\n",
       "      <td>0</td>\n",
       "      <td>0</td>\n",
       "    </tr>\n",
       "    <tr>\n",
       "      <th>3</th>\n",
       "      <td>2024</td>\n",
       "      <td>1</td>\n",
       "      <td>1</td>\n",
       "      <td>1</td>\n",
       "      <td>2024-01-01</td>\n",
       "      <td>9E</td>\n",
       "      <td>4817.0</td>\n",
       "      <td>RIC</td>\n",
       "      <td>Richmond, VA</td>\n",
       "      <td>Virginia</td>\n",
       "      <td>...</td>\n",
       "      <td>0</td>\n",
       "      <td>111.0</td>\n",
       "      <td>76.0</td>\n",
       "      <td>51.0</td>\n",
       "      <td>288.0</td>\n",
       "      <td>0</td>\n",
       "      <td>0</td>\n",
       "      <td>0</td>\n",
       "      <td>0</td>\n",
       "      <td>0</td>\n",
       "    </tr>\n",
       "    <tr>\n",
       "      <th>4</th>\n",
       "      <td>2024</td>\n",
       "      <td>1</td>\n",
       "      <td>1</td>\n",
       "      <td>1</td>\n",
       "      <td>2024-01-01</td>\n",
       "      <td>9E</td>\n",
       "      <td>4818.0</td>\n",
       "      <td>DTW</td>\n",
       "      <td>Detroit, MI</td>\n",
       "      <td>Michigan</td>\n",
       "      <td>...</td>\n",
       "      <td>0</td>\n",
       "      <td>79.0</td>\n",
       "      <td>70.0</td>\n",
       "      <td>45.0</td>\n",
       "      <td>237.0</td>\n",
       "      <td>0</td>\n",
       "      <td>0</td>\n",
       "      <td>0</td>\n",
       "      <td>0</td>\n",
       "      <td>0</td>\n",
       "    </tr>\n",
       "  </tbody>\n",
       "</table>\n",
       "<p>5 rows × 35 columns</p>\n",
       "</div>"
      ],
      "text/plain": [
       "   year  month  day_of_month  day_of_week     fl_date op_unique_carrier  \\\n",
       "0  2024      1             1            1  2024-01-01                9E   \n",
       "1  2024      1             1            1  2024-01-01                9E   \n",
       "2  2024      1             1            1  2024-01-01                9E   \n",
       "3  2024      1             1            1  2024-01-01                9E   \n",
       "4  2024      1             1            1  2024-01-01                9E   \n",
       "\n",
       "   op_carrier_fl_num origin origin_city_name origin_state_nm  ... diverted  \\\n",
       "0             4814.0    JFK     New York, NY        New York  ...        0   \n",
       "1             4815.0    MSP  Minneapolis, MN       Minnesota  ...        0   \n",
       "2             4817.0    JFK     New York, NY        New York  ...        0   \n",
       "3             4817.0    RIC     Richmond, VA        Virginia  ...        0   \n",
       "4             4818.0    DTW      Detroit, MI        Michigan  ...        0   \n",
       "\n",
       "  crs_elapsed_time actual_elapsed_time  air_time  distance  carrier_delay  \\\n",
       "0            136.0               122.0      84.0     509.0              0   \n",
       "1            130.0               114.0      88.0     622.0              0   \n",
       "2            106.0                90.0      61.0     288.0              0   \n",
       "3            111.0                76.0      51.0     288.0              0   \n",
       "4             79.0                70.0      45.0     237.0              0   \n",
       "\n",
       "   weather_delay  nas_delay  security_delay  late_aircraft_delay  \n",
       "0              0          0               0                    0  \n",
       "1              0          0               0                    0  \n",
       "2              0          0               0                    0  \n",
       "3              0          0               0                    0  \n",
       "4              0          0               0                    0  \n",
       "\n",
       "[5 rows x 35 columns]"
      ]
     },
     "execution_count": 4,
     "metadata": {},
     "output_type": "execute_result"
    }
   ],
   "source": [
    "df.head()"
   ]
  },
  {
   "cell_type": "markdown",
   "id": "f3d816ae",
   "metadata": {},
   "source": [
    "**2. Missing values check**"
   ]
  },
  {
   "cell_type": "code",
   "execution_count": 5,
   "id": "d4a64c15",
   "metadata": {},
   "outputs": [
    {
     "data": {
      "text/plain": [
       "year                         0\n",
       "month                        0\n",
       "day_of_month                 0\n",
       "day_of_week                  0\n",
       "fl_date                      0\n",
       "op_unique_carrier            0\n",
       "op_carrier_fl_num            1\n",
       "origin                       0\n",
       "origin_city_name             0\n",
       "origin_state_nm              0\n",
       "dest                         0\n",
       "dest_city_name               0\n",
       "dest_state_nm                0\n",
       "crs_dep_time                 0\n",
       "dep_time                 92659\n",
       "dep_delay                92970\n",
       "taxi_out                 95734\n",
       "wheels_off               95734\n",
       "wheels_on                97856\n",
       "taxi_in                  97856\n",
       "crs_arr_time                 0\n",
       "arr_time                 97854\n",
       "arr_delay               113814\n",
       "cancelled                    0\n",
       "cancellation_code      6982766\n",
       "diverted                     0\n",
       "crs_elapsed_time             1\n",
       "actual_elapsed_time     113814\n",
       "air_time                113814\n",
       "distance                     0\n",
       "carrier_delay                0\n",
       "weather_delay                0\n",
       "nas_delay                    0\n",
       "security_delay               0\n",
       "late_aircraft_delay          0\n",
       "dtype: int64"
      ]
     },
     "execution_count": 5,
     "metadata": {},
     "output_type": "execute_result"
    }
   ],
   "source": [
    "df.isnull().sum()"
   ]
  },
  {
   "cell_type": "markdown",
   "id": "9473c417",
   "metadata": {},
   "source": [
    "Note: Cancellation code will be dropped because of major missing values"
   ]
  },
  {
   "cell_type": "code",
   "execution_count": 6,
   "id": "2871c6c0",
   "metadata": {},
   "outputs": [
    {
     "data": {
      "text/plain": [
       "Index(['year', 'month', 'day_of_month', 'day_of_week', 'fl_date',\n",
       "       'op_unique_carrier', 'op_carrier_fl_num', 'origin', 'origin_city_name',\n",
       "       'origin_state_nm', 'dest', 'dest_city_name', 'dest_state_nm',\n",
       "       'crs_dep_time', 'dep_time', 'dep_delay', 'taxi_out', 'wheels_off',\n",
       "       'wheels_on', 'taxi_in', 'crs_arr_time', 'arr_time', 'arr_delay',\n",
       "       'cancelled', 'diverted', 'crs_elapsed_time', 'actual_elapsed_time',\n",
       "       'air_time', 'distance', 'carrier_delay', 'weather_delay', 'nas_delay',\n",
       "       'security_delay', 'late_aircraft_delay'],\n",
       "      dtype='object')"
      ]
     },
     "execution_count": 6,
     "metadata": {},
     "output_type": "execute_result"
    }
   ],
   "source": [
    "df = df.drop(columns=[\"cancellation_code\"])\n",
    "df.columns"
   ]
  },
  {
   "cell_type": "markdown",
   "id": "882a5598",
   "metadata": {},
   "source": [
    "Note: dropping rows with missing observations - 110 thousand for 7 million observations is a small number"
   ]
  },
  {
   "cell_type": "code",
   "execution_count": 7,
   "id": "1e4eae44",
   "metadata": {},
   "outputs": [
    {
     "data": {
      "text/plain": [
       "7079081"
      ]
     },
     "execution_count": 7,
     "metadata": {},
     "output_type": "execute_result"
    }
   ],
   "source": [
    "# before dropping\n",
    "\n",
    "len(df)"
   ]
  },
  {
   "cell_type": "code",
   "execution_count": 8,
   "id": "fcf3d108",
   "metadata": {},
   "outputs": [
    {
     "data": {
      "text/plain": [
       "6965266"
      ]
     },
     "execution_count": 8,
     "metadata": {},
     "output_type": "execute_result"
    }
   ],
   "source": [
    "df = df.dropna()\n",
    "len(df)"
   ]
  },
  {
   "cell_type": "markdown",
   "id": "dacbf10e",
   "metadata": {},
   "source": [
    "**3. Noise in data check**"
   ]
  },
  {
   "cell_type": "code",
   "execution_count": 9,
   "id": "cbad68fd",
   "metadata": {},
   "outputs": [
    {
     "data": {
      "image/png": "[encoded data removed]",
      "text/plain": [
       "<Figure size 640x480 with 1 Axes>"
      ]
     },
     "metadata": {},
     "output_type": "display_data"
    }
   ],
   "source": [
    "from matplotlib import pyplot as plt\n",
    "\n",
    "plt.hist(df[\"arr_delay\"], range=(-50, 300), bins=200)\n",
    "plt.show()"
   ]
  },
  {
   "cell_type": "markdown",
   "id": "2dc67309",
   "metadata": {},
   "source": [
    "Modelling the relation between arr_delay and dep_delay"
   ]
  },
  {
   "cell_type": "code",
   "execution_count": 10,
   "id": "0096e6cd",
   "metadata": {},
   "outputs": [
    {
     "data": {
      "text/plain": [
       "<seaborn.axisgrid.JointGrid at 0x14b570440>"
      ]
     },
     "execution_count": 10,
     "metadata": {},
     "output_type": "execute_result"
    },
    {
     "data": {
      "image/png": "[encoded data removed]",
      "text/plain": [
       "<Figure size 600x600 with 3 Axes>"
      ]
     },
     "metadata": {},
     "output_type": "display_data"
    }
   ],
   "source": [
    "import seaborn as sns\n",
    "\n",
    "sns.jointplot(df, x=\"arr_delay\", y=\"dep_delay\")"
   ]
  },
  {
   "cell_type": "markdown",
   "id": "b717d78f",
   "metadata": {},
   "source": [
    "NOTE: Given that the relation between dep_delay and arr_delay stays mostly linear, we can assume that even the largest delays can be used in our models, because they happen in real life and are not simply noise in the data. Dropping them from our dataset could lead to fitting on artificial data."
   ]
  },
  {
   "cell_type": "markdown",
   "id": "1f168152",
   "metadata": {},
   "source": [
    "**4. Duplicate check**"
   ]
  },
  {
   "cell_type": "code",
   "execution_count": 11,
   "id": "3b75eb39",
   "metadata": {},
   "outputs": [
    {
     "data": {
      "text/plain": [
       "0"
      ]
     },
     "execution_count": 11,
     "metadata": {},
     "output_type": "execute_result"
    }
   ],
   "source": [
    "copy_df = df.drop_duplicates()\n",
    "\n",
    "len(copy_df) - len(df)"
   ]
  },
  {
   "cell_type": "markdown",
   "id": "3f0569fb",
   "metadata": {},
   "source": [
    "No duplicates in data"
   ]
  },
  {
   "cell_type": "markdown",
   "id": "81cd54ca",
   "metadata": {},
   "source": [
    "**5. \"Logical\" data pruning**"
   ]
  },
  {
   "cell_type": "code",
   "execution_count": 12,
   "id": "9813d9ae",
   "metadata": {},
   "outputs": [],
   "source": [
    "def logical_checks(df):\n",
    "    issues = {}\n",
    "\n",
    "    issues['year_invalid'] = df[~df['year'].between(1900, 2100)]\n",
    "    issues['month_invalid'] = df[~df['month'].between(1, 12)]\n",
    "    issues['day_of_month_invalid'] = df[~df['day_of_month'].between(1, 31)]\n",
    "    issues['day_of_week_invalid'] = df[~df['day_of_week'].between(1, 7)]\n",
    "\n",
    "    for col in ['crs_dep_time','dep_time','wheels_off','wheels_on','crs_arr_time','arr_time']:\n",
    "        issues[f'{col}_invalid'] = df[~df[col].between(0, 2400)]\n",
    "\n",
    "    for col in ['taxi_out','taxi_in','crs_elapsed_time','actual_elapsed_time','air_time',\n",
    "                'distance','carrier_delay','weather_delay','nas_delay','security_delay','late_aircraft_delay']:\n",
    "        if col == 'distance':\n",
    "            issues[f'{col}_invalid'] = df[df[col] < 0]\n",
    "        else:\n",
    "            issues[f'{col}_invalid'] = df[df[col] < 0]\n",
    "\n",
    "    issues['cancelled_invalid'] = df[~df['cancelled'].isin([0,1])]\n",
    "    issues['diverted_invalid'] = df[~df['diverted'].isin([0,1])]\n",
    "\n",
    "    return {k:v for k,v in issues.items() if not v.empty}\n",
    "\n",
    "problems = logical_checks(df)\n",
    "for k, v in problems.items():\n",
    "    print(k, len(v))"
   ]
  },
  {
   "cell_type": "markdown",
   "id": "90404534",
   "metadata": {},
   "source": [
    "No logical problems found in the dataset"
   ]
  },
  {
   "cell_type": "markdown",
   "id": "8cfee57e",
   "metadata": {},
   "source": [
    "**6. Checking the amount of unique values in each column**"
   ]
  },
  {
   "cell_type": "code",
   "execution_count": 13,
   "id": "083549c1",
   "metadata": {},
   "outputs": [
    {
     "name": "stdout",
     "output_type": "stream",
     "text": [
      "year                      1\n",
      "month                    12\n",
      "day_of_month             31\n",
      "day_of_week               7\n",
      "fl_date                 366\n",
      "op_unique_carrier        15\n",
      "op_carrier_fl_num      6858\n",
      "origin                  348\n",
      "origin_city_name        342\n",
      "origin_state_nm          52\n",
      "dest                    348\n",
      "dest_city_name          342\n",
      "dest_state_nm            52\n",
      "crs_dep_time           1360\n",
      "dep_time               1440\n",
      "dep_delay              1854\n",
      "taxi_out                190\n",
      "wheels_off             1440\n",
      "wheels_on              1440\n",
      "taxi_in                 227\n",
      "crs_arr_time           1429\n",
      "arr_time               1440\n",
      "arr_delay              1887\n",
      "cancelled                 1\n",
      "diverted                  1\n",
      "crs_elapsed_time        585\n",
      "actual_elapsed_time     719\n",
      "air_time                681\n",
      "distance               1621\n",
      "carrier_delay          1632\n",
      "weather_delay          1116\n",
      "nas_delay               849\n",
      "security_delay          195\n",
      "late_aircraft_delay    1377\n",
      "dtype: int64\n"
     ]
    }
   ],
   "source": [
    "unique_counts = df.nunique()\n",
    "\n",
    "print(unique_counts)"
   ]
  },
  {
   "cell_type": "code",
   "execution_count": 14,
   "id": "23bf5839",
   "metadata": {},
   "outputs": [
    {
     "data": {
      "image/png": "[encoded data removed]",
      "text/plain": [
       "<Figure size 640x480 with 1 Axes>"
      ]
     },
     "metadata": {},
     "output_type": "display_data"
    }
   ],
   "source": [
    "unique_counts.plot(kind='bar', title='Histogram of Unique Values')\n",
    "plt.xlabel('Columns')\n",
    "plt.ylabel('Number of Unique Values')\n",
    "plt.show()"
   ]
  },
  {
   "cell_type": "markdown",
   "id": "9bcf7253",
   "metadata": {},
   "source": [
    "## Adding Columns for classification task purposes\n",
    "\n",
    "We will assume that in terms of departing a plane is delayed if it's delay is bigger than 15 minutes, beacuse it's the most commonly assumed value.\n",
    "\n",
    "In terms of arrival delay, we decided that the plane is delayed on arrival if the delay is bigger than 0. We made that assumption beacuse people often take transfer fligths and in that case any delay on arrival can be disastrous for the transfer, so it makes sense to propose such a distinction.\n",
    "\n",
    "NOTE: In the dataset a delay can be negative if the plane arrives before the scheduled time."
   ]
  },
  {
   "cell_type": "code",
   "execution_count": 15,
   "id": "1a061d1d",
   "metadata": {},
   "outputs": [
    {
     "data": {
      "text/html": [
       "<div>\n",
       "<style scoped>\n",
       "    .dataframe tbody tr th:only-of-type {\n",
       "        vertical-align: middle;\n",
       "    }\n",
       "\n",
       "    .dataframe tbody tr th {\n",
       "        vertical-align: top;\n",
       "    }\n",
       "\n",
       "    .dataframe thead th {\n",
       "        text-align: right;\n",
       "    }\n",
       "</style>\n",
       "<table border=\"1\" class=\"dataframe\">\n",
       "  <thead>\n",
       "    <tr style=\"text-align: right;\">\n",
       "      <th></th>\n",
       "      <th>dep_delay</th>\n",
       "      <th>is_dep_delayed</th>\n",
       "      <th>arr_delay</th>\n",
       "      <th>is_arr_delayed</th>\n",
       "    </tr>\n",
       "  </thead>\n",
       "  <tbody>\n",
       "    <tr>\n",
       "      <th>0</th>\n",
       "      <td>-5.0</td>\n",
       "      <td>False</td>\n",
       "      <td>-19.0</td>\n",
       "      <td>False</td>\n",
       "    </tr>\n",
       "    <tr>\n",
       "      <th>1</th>\n",
       "      <td>-14.0</td>\n",
       "      <td>False</td>\n",
       "      <td>-30.0</td>\n",
       "      <td>False</td>\n",
       "    </tr>\n",
       "    <tr>\n",
       "      <th>2</th>\n",
       "      <td>-4.0</td>\n",
       "      <td>False</td>\n",
       "      <td>-20.0</td>\n",
       "      <td>False</td>\n",
       "    </tr>\n",
       "    <tr>\n",
       "      <th>3</th>\n",
       "      <td>-7.0</td>\n",
       "      <td>False</td>\n",
       "      <td>-42.0</td>\n",
       "      <td>False</td>\n",
       "    </tr>\n",
       "    <tr>\n",
       "      <th>4</th>\n",
       "      <td>-5.0</td>\n",
       "      <td>False</td>\n",
       "      <td>-14.0</td>\n",
       "      <td>False</td>\n",
       "    </tr>\n",
       "  </tbody>\n",
       "</table>\n",
       "</div>"
      ],
      "text/plain": [
       "   dep_delay  is_dep_delayed  arr_delay  is_arr_delayed\n",
       "0       -5.0           False      -19.0           False\n",
       "1      -14.0           False      -30.0           False\n",
       "2       -4.0           False      -20.0           False\n",
       "3       -7.0           False      -42.0           False\n",
       "4       -5.0           False      -14.0           False"
      ]
     },
     "execution_count": 15,
     "metadata": {},
     "output_type": "execute_result"
    }
   ],
   "source": [
    "df['is_dep_delayed'] = df['dep_delay'] > 15\n",
    "df['is_arr_delayed'] = df['arr_delay'] > 0\n",
    "\n",
    "df[['dep_delay', 'is_dep_delayed', 'arr_delay', 'is_arr_delayed']].head()"
   ]
  },
  {
   "cell_type": "code",
   "execution_count": 16,
   "id": "b950f622",
   "metadata": {},
   "outputs": [
    {
     "data": {
      "image/png": "[encoded data removed]",
      "text/plain": [
       "<Figure size 640x480 with 1 Axes>"
      ]
     },
     "metadata": {},
     "output_type": "display_data"
    },
    {
     "data": {
      "image/png": "[encoded data removed]",
      "text/plain": [
       "<Figure size 640x480 with 1 Axes>"
      ]
     },
     "metadata": {},
     "output_type": "display_data"
    }
   ],
   "source": [
    "df['is_dep_delayed'].value_counts().plot(kind='pie', title='Proportion of Departure Delays', autopct='%1.1f%%')\n",
    "plt.ylabel('')\n",
    "plt.show()\n",
    "\n",
    "df['is_arr_delayed'].value_counts().plot(kind='pie', title='Proportion of Arrival Delays', autopct='%1.1f%%')\n",
    "plt.ylabel('')\n",
    "plt.show()"
   ]
  },
  {
   "cell_type": "code",
   "execution_count": 17,
   "id": "da5928fa",
   "metadata": {},
   "outputs": [
    {
     "name": "stdout",
     "output_type": "stream",
     "text": [
      "Counts for is_dep_delayed:\n",
      "is_dep_delayed\n",
      "False    5576380\n",
      "True     1388886\n",
      "Name: count, dtype: int64\n",
      "\n",
      "Counts for is_arr_delayed:\n",
      "is_arr_delayed\n",
      "False    4443258\n",
      "True     2522008\n",
      "Name: count, dtype: int64\n"
     ]
    }
   ],
   "source": [
    "print(\"Counts for is_dep_delayed:\")\n",
    "print(df['is_dep_delayed'].value_counts())\n",
    "\n",
    "print(\"\\nCounts for is_arr_delayed:\")\n",
    "print(df['is_arr_delayed'].value_counts())"
   ]
  },
  {
   "cell_type": "code",
   "execution_count": 18,
   "id": "026869fa",
   "metadata": {},
   "outputs": [
    {
     "name": "stdout",
     "output_type": "stream",
     "text": [
      "Proportion for is_dep_delayed:\n",
      "is_dep_delayed\n",
      "False    0.800598\n",
      "True     0.199402\n",
      "Name: proportion, dtype: float64\n",
      "\n",
      "Proportion for is_arr_delayed:\n",
      "is_arr_delayed\n",
      "False    0.637916\n",
      "True     0.362084\n",
      "Name: proportion, dtype: float64\n"
     ]
    }
   ],
   "source": [
    "print(\"Proportion for is_dep_delayed:\")\n",
    "print(df['is_dep_delayed'].value_counts(normalize=True))\n",
    "\n",
    "print(\"\\nProportion for is_arr_delayed:\")\n",
    "print(df['is_arr_delayed'].value_counts(normalize=True))"
   ]
  },
  {
   "cell_type": "markdown",
   "id": "51743425",
   "metadata": {},
   "source": [
    "**Important notice:** the percentage of planes delayed on departure is quite small at about 20 %.For the planes delayed on arrival the class distribution is much better with about 64 % being on time and 36 % being delayed."
   ]
  },
  {
   "cell_type": "markdown",
   "id": "b552b43d",
   "metadata": {},
   "source": [
    "**Changing columns that contain data to correct data type**"
   ]
  },
  {
   "cell_type": "code",
   "execution_count": 19,
   "id": "a61fdc2c",
   "metadata": {},
   "outputs": [
    {
     "name": "stdout",
     "output_type": "stream",
     "text": [
      "datetime64[ns]\n",
      "2024-01-01 00:00:00\n",
      "object\n",
      "12:52:00\n",
      "object\n",
      "12:47:00\n",
      "object\n",
      "14:49:00\n",
      "object\n",
      "15:08:00\n"
     ]
    }
   ],
   "source": [
    "# fl_date to datetime\n",
    "df[\"fl_date\"] = pd.to_datetime(df[\"fl_date\"], errors=\"coerce\")\n",
    "print(df[\"fl_date\"].dtype)\n",
    "print(df[\"fl_date\"][0])\n",
    "\n",
    "# crs_dep_time to time\n",
    "df[\"crs_dep_time\"] = pd.to_datetime(df[\"crs_dep_time\"], format='%H%M', errors=\"coerce\").dt.time\n",
    "print(df[\"crs_dep_time\"].dtype)\n",
    "print(df[\"crs_dep_time\"][0])\n",
    "\n",
    "# dep_time to time\n",
    "df[\"dep_time\"] = pd.to_datetime(df[\"dep_time\"], format='%H%M', errors=\"coerce\").dt.time\n",
    "print(df[\"dep_time\"].dtype)\n",
    "print(df[\"dep_time\"][0])\n",
    "\n",
    "# arr_time to time\n",
    "df[\"arr_time\"] = pd.to_datetime(df[\"arr_time\"], format='%H%M', errors=\"coerce\").dt.time\n",
    "print(df[\"arr_time\"].dtype)\n",
    "print(df[\"arr_time\"][0])\n",
    "\n",
    "# crs_arr_time to time\n",
    "df[\"crs_arr_time\"] = pd.to_datetime(df[\"crs_arr_time\"], format='%H%M', errors=\"coerce\").dt.time\n",
    "print(df[\"crs_arr_time\"].dtype)\n",
    "print(df[\"crs_arr_time\"][0])"
   ]
  },
  {
   "cell_type": "markdown",
   "id": "29e5fa20",
   "metadata": {},
   "source": [
    "## Selecting columns for usage in ML models"
   ]
  },
  {
   "cell_type": "code",
   "execution_count": 20,
   "id": "2c2c481d",
   "metadata": {},
   "outputs": [
    {
     "data": {
      "text/plain": [
       "Index(['year', 'month', 'day_of_month', 'day_of_week', 'fl_date',\n",
       "       'op_unique_carrier', 'op_carrier_fl_num', 'origin', 'origin_city_name',\n",
       "       'origin_state_nm', 'dest', 'dest_city_name', 'dest_state_nm',\n",
       "       'crs_dep_time', 'dep_time', 'dep_delay', 'taxi_out', 'wheels_off',\n",
       "       'wheels_on', 'taxi_in', 'crs_arr_time', 'arr_time', 'arr_delay',\n",
       "       'cancelled', 'diverted', 'crs_elapsed_time', 'actual_elapsed_time',\n",
       "       'air_time', 'distance', 'carrier_delay', 'weather_delay', 'nas_delay',\n",
       "       'security_delay', 'late_aircraft_delay', 'is_dep_delayed',\n",
       "       'is_arr_delayed'],\n",
       "      dtype='object')"
      ]
     },
     "execution_count": 20,
     "metadata": {},
     "output_type": "execute_result"
    }
   ],
   "source": [
    "df.columns"
   ]
  },
  {
   "cell_type": "markdown",
   "id": "448c7ac0",
   "metadata": {},
   "source": [
    "Selected columns:\n",
    "- month\n",
    "- day_of_month\n",
    "- day_of_week\n",
    "- op_unique_carrier\n",
    "- origin\n",
    "- origin_city_name\n",
    "- origin_state_nm\n",
    "- dest\n",
    "- dest_city_name\n",
    "- dest_state_nm\n",
    "- dep_time\n",
    "- distance"
   ]
  },
  {
   "cell_type": "markdown",
   "id": "e884ceed",
   "metadata": {},
   "source": [
    "**Saving the preprocessed data**"
   ]
  },
  {
   "cell_type": "code",
   "execution_count": 21,
   "id": "0374c92c",
   "metadata": {},
   "outputs": [],
   "source": [
    "df.to_csv(\"../data/preprocessed_flight_data.csv\")"
   ]
  }
 ],
 "metadata": {
  "kernelspec": {
   "display_name": ".venv",
   "language": "python",
   "name": "python3"
  },
  "language_info": {
   "codemirror_mode": {
    "name": "ipython",
    "version": 3
   },
   "file_extension": ".py",
   "mimetype": "text/x-python",
   "name": "python",
   "nbconvert_exporter": "python",
   "pygments_lexer": "ipython3",
   "version": "3.13.5"
  }
 },
 "nbformat": 4,
 "nbformat_minor": 5
}
