{
 "cells": [
  {
   "cell_type": "markdown",
   "id": "01c557ad",
   "metadata": {},
   "source": [
    "## Flight delay data preprocessing and analysis"
   ]
  },
  {
   "cell_type": "markdown",
   "id": "0d0eccd3",
   "metadata": {},
   "source": [
    "**1. Data Downloading**"
   ]
  },
  {
   "cell_type": "code",
   "execution_count": 1,
   "id": "511705d2",
   "metadata": {},
   "outputs": [
    {
     "name": "stderr",
     "output_type": "stream",
     "text": [
      "/home/adam/anaconda3/envs/flight-delay/lib/python3.13/site-packages/tqdm/auto.py:21: TqdmWarning: IProgress not found. Please update jupyter and ipywidgets. See https://ipywidgets.readthedocs.io/en/stable/user_install.html\n",
      "  from .autonotebook import tqdm as notebook_tqdm\n"
     ]
    },
    {
     "name": "stdout",
     "output_type": "stream",
     "text": [
      "Downloaded to: /home/adam/.cache/kagglehub/datasets/hrishitpatil/flight-data-2024/versions/2\n"
     ]
    }
   ],
   "source": [
    "import kagglehub\n",
    "\n",
    "path = kagglehub.dataset_download(\"hrishitpatil/flight-data-2024\")\n",
    "\n",
    "print(\"Downloaded to:\", path)\n"
   ]
  },
  {
   "cell_type": "code",
   "execution_count": 2,
   "id": "a5a34337",
   "metadata": {},
   "outputs": [],
   "source": [
    "from pathlib import Path\n",
    "import shutil\n",
    "\n",
    "data_folder = Path('../data')\n",
    "data_folder.mkdir(exist_ok=True)\n",
    "\n",
    "for f in Path(path).glob('*'):\n",
    "    shutil.copy(f, data_folder / f.name)\n"
   ]
  },
  {
   "cell_type": "code",
   "execution_count": 3,
   "id": "dc04e0ec",
   "metadata": {},
   "outputs": [
    {
     "name": "stderr",
     "output_type": "stream",
     "text": [
      "/tmp/ipykernel_26684/1157875057.py:3: DtypeWarning: Columns (24) have mixed types. Specify dtype option on import or set low_memory=False.\n",
      "  df = pd.read_csv(\"../data/flight_data_2024.csv\")\n"
     ]
    }
   ],
   "source": [
    "import pandas as pd\n",
    "\n",
    "df = pd.read_csv(\"../data/flight_data_2024.csv\")"
   ]
  },
  {
   "cell_type": "code",
   "execution_count": 4,
   "id": "e857a4c5",
   "metadata": {},
   "outputs": [
    {
     "data": {
      "text/html": [
       "<div>\n",
       "<style scoped>\n",
       "    .dataframe tbody tr th:only-of-type {\n",
       "        vertical-align: middle;\n",
       "    }\n",
       "\n",
       "    .dataframe tbody tr th {\n",
       "        vertical-align: top;\n",
       "    }\n",
       "\n",
       "    .dataframe thead th {\n",
       "        text-align: right;\n",
       "    }\n",
       "</style>\n",
       "<table border=\"1\" class=\"dataframe\">\n",
       "  <thead>\n",
       "    <tr style=\"text-align: right;\">\n",
       "      <th></th>\n",
       "      <th>year</th>\n",
       "      <th>month</th>\n",
       "      <th>day_of_month</th>\n",
       "      <th>day_of_week</th>\n",
       "      <th>fl_date</th>\n",
       "      <th>op_unique_carrier</th>\n",
       "      <th>op_carrier_fl_num</th>\n",
       "      <th>origin</th>\n",
       "      <th>origin_city_name</th>\n",
       "      <th>origin_state_nm</th>\n",
       "      <th>...</th>\n",
       "      <th>diverted</th>\n",
       "      <th>crs_elapsed_time</th>\n",
       "      <th>actual_elapsed_time</th>\n",
       "      <th>air_time</th>\n",
       "      <th>distance</th>\n",
       "      <th>carrier_delay</th>\n",
       "      <th>weather_delay</th>\n",
       "      <th>nas_delay</th>\n",
       "      <th>security_delay</th>\n",
       "      <th>late_aircraft_delay</th>\n",
       "    </tr>\n",
       "  </thead>\n",
       "  <tbody>\n",
       "    <tr>\n",
       "      <th>0</th>\n",
       "      <td>2024</td>\n",
       "      <td>1</td>\n",
       "      <td>1</td>\n",
       "      <td>1</td>\n",
       "      <td>2024-01-01</td>\n",
       "      <td>9E</td>\n",
       "      <td>4814.0</td>\n",
       "      <td>JFK</td>\n",
       "      <td>New York, NY</td>\n",
       "      <td>New York</td>\n",
       "      <td>...</td>\n",
       "      <td>0</td>\n",
       "      <td>136.0</td>\n",
       "      <td>122.0</td>\n",
       "      <td>84.0</td>\n",
       "      <td>509.0</td>\n",
       "      <td>0</td>\n",
       "      <td>0</td>\n",
       "      <td>0</td>\n",
       "      <td>0</td>\n",
       "      <td>0</td>\n",
       "    </tr>\n",
       "    <tr>\n",
       "      <th>1</th>\n",
       "      <td>2024</td>\n",
       "      <td>1</td>\n",
       "      <td>1</td>\n",
       "      <td>1</td>\n",
       "      <td>2024-01-01</td>\n",
       "      <td>9E</td>\n",
       "      <td>4815.0</td>\n",
       "      <td>MSP</td>\n",
       "      <td>Minneapolis, MN</td>\n",
       "      <td>Minnesota</td>\n",
       "      <td>...</td>\n",
       "      <td>0</td>\n",
       "      <td>130.0</td>\n",
       "      <td>114.0</td>\n",
       "      <td>88.0</td>\n",
       "      <td>622.0</td>\n",
       "      <td>0</td>\n",
       "      <td>0</td>\n",
       "      <td>0</td>\n",
       "      <td>0</td>\n",
       "      <td>0</td>\n",
       "    </tr>\n",
       "    <tr>\n",
       "      <th>2</th>\n",
       "      <td>2024</td>\n",
       "      <td>1</td>\n",
       "      <td>1</td>\n",
       "      <td>1</td>\n",
       "      <td>2024-01-01</td>\n",
       "      <td>9E</td>\n",
       "      <td>4817.0</td>\n",
       "      <td>JFK</td>\n",
       "      <td>New York, NY</td>\n",
       "      <td>New York</td>\n",
       "      <td>...</td>\n",
       "      <td>0</td>\n",
       "      <td>106.0</td>\n",
       "      <td>90.0</td>\n",
       "      <td>61.0</td>\n",
       "      <td>288.0</td>\n",
       "      <td>0</td>\n",
       "      <td>0</td>\n",
       "      <td>0</td>\n",
       "      <td>0</td>\n",
       "      <td>0</td>\n",
       "    </tr>\n",
       "    <tr>\n",
       "      <th>3</th>\n",
       "      <td>2024</td>\n",
       "      <td>1</td>\n",
       "      <td>1</td>\n",
       "      <td>1</td>\n",
       "      <td>2024-01-01</td>\n",
       "      <td>9E</td>\n",
       "      <td>4817.0</td>\n",
       "      <td>RIC</td>\n",
       "      <td>Richmond, VA</td>\n",
       "      <td>Virginia</td>\n",
       "      <td>...</td>\n",
       "      <td>0</td>\n",
       "      <td>111.0</td>\n",
       "      <td>76.0</td>\n",
       "      <td>51.0</td>\n",
       "      <td>288.0</td>\n",
       "      <td>0</td>\n",
       "      <td>0</td>\n",
       "      <td>0</td>\n",
       "      <td>0</td>\n",
       "      <td>0</td>\n",
       "    </tr>\n",
       "    <tr>\n",
       "      <th>4</th>\n",
       "      <td>2024</td>\n",
       "      <td>1</td>\n",
       "      <td>1</td>\n",
       "      <td>1</td>\n",
       "      <td>2024-01-01</td>\n",
       "      <td>9E</td>\n",
       "      <td>4818.0</td>\n",
       "      <td>DTW</td>\n",
       "      <td>Detroit, MI</td>\n",
       "      <td>Michigan</td>\n",
       "      <td>...</td>\n",
       "      <td>0</td>\n",
       "      <td>79.0</td>\n",
       "      <td>70.0</td>\n",
       "      <td>45.0</td>\n",
       "      <td>237.0</td>\n",
       "      <td>0</td>\n",
       "      <td>0</td>\n",
       "      <td>0</td>\n",
       "      <td>0</td>\n",
       "      <td>0</td>\n",
       "    </tr>\n",
       "  </tbody>\n",
       "</table>\n",
       "<p>5 rows × 35 columns</p>\n",
       "</div>"
      ],
      "text/plain": [
       "   year  month  day_of_month  day_of_week     fl_date op_unique_carrier  \\\n",
       "0  2024      1             1            1  2024-01-01                9E   \n",
       "1  2024      1             1            1  2024-01-01                9E   \n",
       "2  2024      1             1            1  2024-01-01                9E   \n",
       "3  2024      1             1            1  2024-01-01                9E   \n",
       "4  2024      1             1            1  2024-01-01                9E   \n",
       "\n",
       "   op_carrier_fl_num origin origin_city_name origin_state_nm  ... diverted  \\\n",
       "0             4814.0    JFK     New York, NY        New York  ...        0   \n",
       "1             4815.0    MSP  Minneapolis, MN       Minnesota  ...        0   \n",
       "2             4817.0    JFK     New York, NY        New York  ...        0   \n",
       "3             4817.0    RIC     Richmond, VA        Virginia  ...        0   \n",
       "4             4818.0    DTW      Detroit, MI        Michigan  ...        0   \n",
       "\n",
       "  crs_elapsed_time actual_elapsed_time  air_time  distance  carrier_delay  \\\n",
       "0            136.0               122.0      84.0     509.0              0   \n",
       "1            130.0               114.0      88.0     622.0              0   \n",
       "2            106.0                90.0      61.0     288.0              0   \n",
       "3            111.0                76.0      51.0     288.0              0   \n",
       "4             79.0                70.0      45.0     237.0              0   \n",
       "\n",
       "   weather_delay  nas_delay  security_delay  late_aircraft_delay  \n",
       "0              0          0               0                    0  \n",
       "1              0          0               0                    0  \n",
       "2              0          0               0                    0  \n",
       "3              0          0               0                    0  \n",
       "4              0          0               0                    0  \n",
       "\n",
       "[5 rows x 35 columns]"
      ]
     },
     "execution_count": 4,
     "metadata": {},
     "output_type": "execute_result"
    }
   ],
   "source": [
    "df.head()"
   ]
  },
  {
   "cell_type": "markdown",
   "id": "f3d816ae",
   "metadata": {},
   "source": [
    "**2. Missing values check**"
   ]
  },
  {
   "cell_type": "code",
   "execution_count": 5,
   "id": "d4a64c15",
   "metadata": {},
   "outputs": [
    {
     "data": {
      "text/plain": [
       "year                         0\n",
       "month                        0\n",
       "day_of_month                 0\n",
       "day_of_week                  0\n",
       "fl_date                      0\n",
       "op_unique_carrier            0\n",
       "op_carrier_fl_num            1\n",
       "origin                       0\n",
       "origin_city_name             0\n",
       "origin_state_nm              0\n",
       "dest                         0\n",
       "dest_city_name               0\n",
       "dest_state_nm                0\n",
       "crs_dep_time                 0\n",
       "dep_time                 92659\n",
       "dep_delay                92970\n",
       "taxi_out                 95734\n",
       "wheels_off               95734\n",
       "wheels_on                97856\n",
       "taxi_in                  97856\n",
       "crs_arr_time                 0\n",
       "arr_time                 97854\n",
       "arr_delay               113814\n",
       "cancelled                    0\n",
       "cancellation_code      6982766\n",
       "diverted                     0\n",
       "crs_elapsed_time             1\n",
       "actual_elapsed_time     113814\n",
       "air_time                113814\n",
       "distance                     0\n",
       "carrier_delay                0\n",
       "weather_delay                0\n",
       "nas_delay                    0\n",
       "security_delay               0\n",
       "late_aircraft_delay          0\n",
       "dtype: int64"
      ]
     },
     "execution_count": 5,
     "metadata": {},
     "output_type": "execute_result"
    }
   ],
   "source": [
    "df.isnull().sum()"
   ]
  },
  {
   "cell_type": "markdown",
   "id": "9473c417",
   "metadata": {},
   "source": [
    "Note: Cancellation code will be dropped because of major missing values"
   ]
  },
  {
   "cell_type": "code",
   "execution_count": 6,
   "id": "2871c6c0",
   "metadata": {},
   "outputs": [
    {
     "data": {
      "text/plain": [
       "Index(['year', 'month', 'day_of_month', 'day_of_week', 'fl_date',\n",
       "       'op_unique_carrier', 'op_carrier_fl_num', 'origin', 'origin_city_name',\n",
       "       'origin_state_nm', 'dest', 'dest_city_name', 'dest_state_nm',\n",
       "       'crs_dep_time', 'dep_time', 'dep_delay', 'taxi_out', 'wheels_off',\n",
       "       'wheels_on', 'taxi_in', 'crs_arr_time', 'arr_time', 'arr_delay',\n",
       "       'cancelled', 'diverted', 'crs_elapsed_time', 'actual_elapsed_time',\n",
       "       'air_time', 'distance', 'carrier_delay', 'weather_delay', 'nas_delay',\n",
       "       'security_delay', 'late_aircraft_delay'],\n",
       "      dtype='object')"
      ]
     },
     "execution_count": 6,
     "metadata": {},
     "output_type": "execute_result"
    }
   ],
   "source": [
    "df = df.drop(columns=[\"cancellation_code\"])\n",
    "df.columns"
   ]
  },
  {
   "cell_type": "markdown",
   "id": "882a5598",
   "metadata": {},
   "source": [
    "Note: dropping rows with missing observations - 110 thousand for 7 million observations is a small number"
   ]
  },
  {
   "cell_type": "code",
   "execution_count": 7,
   "id": "1e4eae44",
   "metadata": {},
   "outputs": [
    {
     "data": {
      "text/plain": [
       "7079081"
      ]
     },
     "execution_count": 7,
     "metadata": {},
     "output_type": "execute_result"
    }
   ],
   "source": [
    "# before dropping\n",
    "\n",
    "len(df)"
   ]
  },
  {
   "cell_type": "code",
   "execution_count": 8,
   "id": "fcf3d108",
   "metadata": {},
   "outputs": [
    {
     "data": {
      "text/plain": [
       "6965266"
      ]
     },
     "execution_count": 8,
     "metadata": {},
     "output_type": "execute_result"
    }
   ],
   "source": [
    "df = df.dropna()\n",
    "len(df)"
   ]
  },
  {
   "cell_type": "markdown",
   "id": "dacbf10e",
   "metadata": {},
   "source": [
    "**3. Noise in data check**"
   ]
  },
  {
   "cell_type": "code",
   "execution_count": 9,
   "id": "cbad68fd",
   "metadata": {},
   "outputs": [
    {
     "data": {
      "image/png": "[encoded data removed]",
      "text/plain": [
       "<Figure size 640x480 with 1 Axes>"
      ]
     },
     "metadata": {},
     "output_type": "display_data"
    }
   ],
   "source": [
    "from matplotlib import pyplot as plt\n",
    "\n",
    "plt.hist(df[\"arr_delay\"], range=(-50, 300), bins=200)\n",
    "plt.show()"
   ]
  },
  {
   "cell_type": "markdown",
   "id": "2dc67309",
   "metadata": {},
   "source": [
    "Modelling the relation between arr_delay and dep_delay"
   ]
  },
  {
   "cell_type": "code",
   "execution_count": 10,
   "id": "0096e6cd",
   "metadata": {},
   "outputs": [
    {
     "data": {
      "text/plain": [
       "<seaborn.axisgrid.JointGrid at 0x7216c61923c0>"
      ]
     },
     "execution_count": 10,
     "metadata": {},
     "output_type": "execute_result"
    },
    {
     "data": {
      "image/png": "[encoded data removed]",
      "text/plain": [
       "<Figure size 600x600 with 3 Axes>"
      ]
     },
     "metadata": {},
     "output_type": "display_data"
    }
   ],
   "source": [
    "import seaborn as sns\n",
    "\n",
    "sns.jointplot(df, x=\"arr_delay\", y=\"dep_delay\")"
   ]
  },
  {
   "cell_type": "markdown",
   "id": "1f168152",
   "metadata": {},
   "source": [
    "**4. Duplicate check**"
   ]
  },
  {
   "cell_type": "code",
   "execution_count": 11,
   "id": "3b75eb39",
   "metadata": {},
   "outputs": [
    {
     "data": {
      "text/plain": [
       "0"
      ]
     },
     "execution_count": 11,
     "metadata": {},
     "output_type": "execute_result"
    }
   ],
   "source": [
    "copy_df = df.drop_duplicates()\n",
    "\n",
    "len(copy_df) - len(df)"
   ]
  },
  {
   "cell_type": "markdown",
   "id": "3f0569fb",
   "metadata": {},
   "source": [
    "No duplicates in data"
   ]
  },
  {
   "cell_type": "markdown",
   "id": "81cd54ca",
   "metadata": {},
   "source": [
    "**5. \"Logical\" data pruning**"
   ]
  },
  {
   "cell_type": "code",
   "execution_count": 15,
   "id": "9813d9ae",
   "metadata": {},
   "outputs": [],
   "source": [
    "def logical_checks(df):\n",
    "    issues = {}\n",
    "\n",
    "    issues['year_invalid'] = df[~df['year'].between(1900, 2100)]\n",
    "    issues['month_invalid'] = df[~df['month'].between(1, 12)]\n",
    "    issues['day_of_month_invalid'] = df[~df['day_of_month'].between(1, 31)]\n",
    "    issues['day_of_week_invalid'] = df[~df['day_of_week'].between(1, 7)]\n",
    "\n",
    "    for col in ['crs_dep_time','dep_time','wheels_off','wheels_on','crs_arr_time','arr_time']:\n",
    "        issues[f'{col}_invalid'] = df[~df[col].between(0, 2400)]\n",
    "\n",
    "    for col in ['taxi_out','taxi_in','crs_elapsed_time','actual_elapsed_time','air_time',\n",
    "                'distance','carrier_delay','weather_delay','nas_delay','security_delay','late_aircraft_delay']:\n",
    "        if col == 'distance':\n",
    "            issues[f'{col}_invalid'] = df[df[col] < 0]\n",
    "        else:\n",
    "            issues[f'{col}_invalid'] = df[df[col] < 0]\n",
    "\n",
    "    issues['cancelled_invalid'] = df[~df['cancelled'].isin([0,1])]\n",
    "    issues['diverted_invalid'] = df[~df['diverted'].isin([0,1])]\n",
    "\n",
    "    return {k:v for k,v in issues.items() if not v.empty}\n",
    "\n",
    "problems = logical_checks(df)\n",
    "for k, v in problems.items():\n",
    "    print(k, len(v))"
   ]
  },
  {
   "cell_type": "markdown",
   "id": "90404534",
   "metadata": {},
   "source": [
    "No logical problems found in the dataset"
   ]
  }
 ],
 "metadata": {
  "kernelspec": {
   "display_name": "flight-delay",
   "language": "python",
   "name": "python3"
  },
  "language_info": {
   "codemirror_mode": {
    "name": "ipython",
    "version": 3
   },
   "file_extension": ".py",
   "mimetype": "text/x-python",
   "name": "python",
   "nbconvert_exporter": "python",
   "pygments_lexer": "ipython3",
   "version": "3.13.7"
  }
 },
 "nbformat": 4,
 "nbformat_minor": 5
}
